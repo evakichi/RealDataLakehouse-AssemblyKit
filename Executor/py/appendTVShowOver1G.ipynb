{
 "cells": [
  {
   "cell_type": "code",
   "execution_count": 3,
   "id": "bd3bdd3b-1cc4-4575-98c2-563507281700",
   "metadata": {},
   "outputs": [
    {
     "name": "stderr",
     "output_type": "stream",
     "text": [
      "                                                                                "
     ]
    },
    {
     "name": "stdout",
     "output_type": "stream",
     "text": [
      "+--------------+------------+----------+\n",
      "|BroadcastLogID|LogServiceID|LogDate   |\n",
      "+--------------+------------+----------+\n",
      "|1145922263    |3262        |2018-06-01|\n",
      "|1145922280    |3262        |2018-06-01|\n",
      "|1145922295    |3262        |2018-06-01|\n",
      "|1145922312    |3262        |2018-06-01|\n",
      "|1145922346    |3262        |2018-06-01|\n",
      "+--------------+------------+----------+\n",
      "only showing top 5 rows\n",
      "\n"
     ]
    },
    {
     "name": "stderr",
     "output_type": "stream",
     "text": [
      "                                                                                "
     ]
    },
    {
     "name": "stdout",
     "output_type": "stream",
     "text": [
      "+--------------+------------+----------+\n",
      "|BroadcastLogID|LogServiceID|LogDate   |\n",
      "+--------------+------------+----------+\n",
      "|1187461637    |3157        |2018-07-01|\n",
      "|1187461638    |3157        |2018-07-01|\n",
      "|1187461639    |3157        |2018-07-01|\n",
      "|1187461640    |3157        |2018-07-01|\n",
      "|1187461641    |3157        |2018-07-01|\n",
      "+--------------+------------+----------+\n",
      "only showing top 5 rows\n",
      "\n"
     ]
    },
    {
     "name": "stderr",
     "output_type": "stream",
     "text": [
      "                                                                                "
     ]
    },
    {
     "name": "stdout",
     "output_type": "stream",
     "text": [
      "+--------------+------------+----------+\n",
      "|BroadcastLogID|LogServiceID|LogDate   |\n",
      "+--------------+------------+----------+\n",
      "|1196192316    |3157        |2018-08-01|\n",
      "|1196192317    |3157        |2018-08-01|\n",
      "|1196192318    |3157        |2018-08-01|\n",
      "|1196192319    |3157        |2018-08-01|\n",
      "|1196192320    |3157        |2018-08-01|\n",
      "+--------------+------------+----------+\n",
      "only showing top 5 rows\n",
      "\n"
     ]
    },
    {
     "name": "stderr",
     "output_type": "stream",
     "text": [
      "[Stage 25:===========================================>              (6 + 2) / 8]"
     ]
    },
    {
     "name": "stdout",
     "output_type": "stream",
     "text": [
      "root\n",
      " |-- BroadcastLogID: integer (nullable = true)\n",
      " |-- LogServiceID: integer (nullable = true)\n",
      " |-- LogDate: date (nullable = true)\n",
      " |-- SequenceNO: integer (nullable = true)\n",
      " |-- AudienceTargetAgeID: integer (nullable = true)\n",
      " |-- AudienceTargetEthnicID: integer (nullable = true)\n",
      " |-- CategoryID: integer (nullable = true)\n",
      " |-- ClosedCaptionID: integer (nullable = true)\n",
      " |-- CountryOfOriginID: integer (nullable = true)\n",
      " |-- DubDramaCreditID: integer (nullable = true)\n",
      " |-- EthnicProgramID: integer (nullable = true)\n",
      " |-- ProductionSourceID: integer (nullable = true)\n",
      " |-- ProgramClassID: integer (nullable = true)\n",
      " |-- FilmClassificationID: integer (nullable = true)\n",
      " |-- ExhibitionID: integer (nullable = true)\n",
      " |-- Duration: string (nullable = true)\n",
      " |-- EndTime: string (nullable = true)\n",
      " |-- LogEntryDate: date (nullable = true)\n",
      " |-- ProductionNO: string (nullable = true)\n",
      " |-- ProgramTitle: string (nullable = true)\n",
      " |-- StartTime: string (nullable = true)\n",
      " |-- Subtitle: string (nullable = true)\n",
      " |-- NetworkAffiliationID: integer (nullable = true)\n",
      " |-- SpecialAttentionID: integer (nullable = true)\n",
      " |-- BroadcastOriginPointID: integer (nullable = true)\n",
      " |-- CompositionID: integer (nullable = true)\n",
      " |-- Producer1: string (nullable = true)\n",
      " |-- Producer2: string (nullable = true)\n",
      " |-- Language1: integer (nullable = true)\n",
      " |-- Language2: integer (nullable = true)\n",
      "\n"
     ]
    },
    {
     "name": "stderr",
     "output_type": "stream",
     "text": [
      "                                                                                "
     ]
    },
    {
     "data": {
      "text/plain": [
       "DataFrame[BroadcastLogID: int, LogServiceID: int, LogDate: date, SequenceNO: int, AudienceTargetAgeID: int, AudienceTargetEthnicID: int, CategoryID: int, ClosedCaptionID: int, CountryOfOriginID: int, DubDramaCreditID: int, EthnicProgramID: int, ProductionSourceID: int, ProgramClassID: int, FilmClassificationID: int, ExhibitionID: int, Duration: string, EndTime: string, LogEntryDate: date, ProductionNO: string, ProgramTitle: string, StartTime: string, Subtitle: string, NetworkAffiliationID: int, SpecialAttentionID: int, BroadcastOriginPointID: int, CompositionID: int, Producer1: string, Producer2: string, Language1: int, Language2: int]"
      ]
     },
     "execution_count": 3,
     "metadata": {},
     "output_type": "execute_result"
    }
   ],
   "source": [
    "from pyspark.sql import SparkSession\n",
    "import os\n",
    "\n",
    "# Download from https://open.canada.ca/data/en/dataset/800106c1-0b08-401e-8be2-ac45d62e662e\n",
    "# BroadcastLogs_2018_Q3_M8.CSV\n",
    "# https://open.canada.ca/data/en/dataset/800106c1-0b08-401e-8be2-ac45d62e662e/resource/23b213b3-a4a4-4813-95f9-3916af57568c\n",
    "# Data Dictionaly\n",
    "# https://open.canada.ca/data/en/dataset/800106c1-0b08-401e-8be2-ac45d62e662e/resource/12efecb4-1eb5-4b92-808e-3dbaaee2ec9d\n",
    "# Reference Tables\n",
    "# https://open.canada.ca/data/en/dataset/800106c1-0b08-401e-8be2-ac45d62e662e/resource/8fdbf80d-2161-48a5-8a32-fc90e738a7a3\n",
    "\n",
    "spark = SparkSession.builder.getOrCreate()\n",
    "\n",
    "DIRECTORY = \"../data/\"\n",
    "logs6 = spark.read.csv(\n",
    "        path=os.path.join(DIRECTORY, \"BroadcastLogs_2018_Q2_M6.CSV\"),\n",
    "        sep=\"|\",\n",
    "        header=True,\n",
    "        inferSchema=True,\n",
    "        timestampFormat=\"yyyy-MM-dd\",\n",
    "        )\n",
    "logs6.select(\"BroadcastLogID\", \"LogServiceID\", \"LogDate\").show(5, False)\n",
    "\n",
    "#logs.writeTo(\"Canada.Broadcast.Logs.2018_Q3.M8\").create()\n",
    "logs6.writeTo(\"Canada.Broadcast.Logs.2018_Q3.M.Part1\").append()\n",
    "\n",
    "logs7 = spark.read.csv(\n",
    "        path=os.path.join(DIRECTORY, \"BroadcastLogs_2018_Q3_M7.CSV\"),\n",
    "        sep=\"|\",\n",
    "        header=True,\n",
    "        inferSchema=True,\n",
    "        timestampFormat=\"yyyy-MM-dd\",\n",
    "        )\n",
    "logs7.select(\"BroadcastLogID\", \"LogServiceID\", \"LogDate\").show(5, False)\n",
    "\n",
    "#logs.writeTo(\"Canada.Broadcast.Logs.2018_Q3.M8\").create()\n",
    "logs7.writeTo(\"Canada.Broadcast.Logs.2018_Q3.M.Part1\").append()\n",
    "\n",
    "logs8 = spark.read.csv(\n",
    "        path=os.path.join(DIRECTORY, \"BroadcastLogs_2018_Q3_M8.CSV\"),\n",
    "        sep=\"|\",\n",
    "        header=True,\n",
    "        inferSchema=True,\n",
    "        timestampFormat=\"yyyy-MM-dd\",\n",
    "        )\n",
    "logs8.select(\"BroadcastLogID\", \"LogServiceID\", \"LogDate\").show(5, False)\n",
    "\n",
    "#logs.writeTo(\"Canada.Broadcast.Logs.2018_Q3.M8\").create()\n",
    "logs8.writeTo(\"Canada.Broadcast.Logs.2018_Q3.M.Part1\").append()\n",
    "\n",
    "\n",
    "df = spark.table(\"Canada.Broadcast.Logs.2018_Q3.M.Part1\")\n",
    "\n",
    "df.printSchema()\n",
    "df"
   ]
  },
  {
   "cell_type": "code",
   "execution_count": 2,
   "id": "f992ca45-ee0c-4b72-89d2-d18193fb4df3",
   "metadata": {},
   "outputs": [
    {
     "name": "stderr",
     "output_type": "stream",
     "text": [
      "                                                                                "
     ]
    }
   ],
   "source": [
    "df.write.csv(path=\"../data/write.csv\")"
   ]
  },
  {
   "cell_type": "code",
   "execution_count": null,
   "id": "1a8086fa-d97c-4de4-b4d0-f6fb8476038b",
   "metadata": {},
   "outputs": [],
   "source": []
  }
 ],
 "metadata": {
  "kernelspec": {
   "display_name": "Python 3 (ipykernel)",
   "language": "python",
   "name": "python3"
  },
  "language_info": {
   "codemirror_mode": {
    "name": "ipython",
    "version": 3
   },
   "file_extension": ".py",
   "mimetype": "text/x-python",
   "name": "python",
   "nbconvert_exporter": "python",
   "pygments_lexer": "ipython3",
   "version": "3.9.2"
  }
 },
 "nbformat": 4,
 "nbformat_minor": 5
}
