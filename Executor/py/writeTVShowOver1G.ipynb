{
 "cells": [
  {
   "cell_type": "code",
   "execution_count": 2,
   "id": "bd3bdd3b-1cc4-4575-98c2-563507281700",
   "metadata": {},
   "outputs": [
    {
     "name": "stderr",
     "output_type": "stream",
     "text": [
      "                                                                                "
     ]
    },
    {
     "name": "stdout",
     "output_type": "stream",
     "text": [
      "+--------------+------------+----------+\n",
      "|BroadcastLogID|LogServiceID|LogDate   |\n",
      "+--------------+------------+----------+\n",
      "|1187461637    |3157        |2018-07-01|\n",
      "|1187461638    |3157        |2018-07-01|\n",
      "|1187461639    |3157        |2018-07-01|\n",
      "|1187461640    |3157        |2018-07-01|\n",
      "|1187461641    |3157        |2018-07-01|\n",
      "+--------------+------------+----------+\n",
      "only showing top 5 rows\n",
      "\n"
     ]
    },
    {
     "name": "stderr",
     "output_type": "stream",
     "text": [
      "                                                                                "
     ]
    },
    {
     "name": "stdout",
     "output_type": "stream",
     "text": [
      "+--------------+------------+----------+----------+-------------------+----------------------+----------+---------------+-----------------+----------------+---------------+------------------+--------------+--------------------+------------+----------------+----------------+------------+------------+--------------------+----------------+--------------------+--------------------+------------------+----------------------+-------------+---------+---------+---------+---------+\n",
      "|BroadcastLogID|LogServiceID|   LogDate|SequenceNO|AudienceTargetAgeID|AudienceTargetEthnicID|CategoryID|ClosedCaptionID|CountryOfOriginID|DubDramaCreditID|EthnicProgramID|ProductionSourceID|ProgramClassID|FilmClassificationID|ExhibitionID|        Duration|         EndTime|LogEntryDate|ProductionNO|        ProgramTitle|       StartTime|            Subtitle|NetworkAffiliationID|SpecialAttentionID|BroadcastOriginPointID|CompositionID|Producer1|Producer2|Language1|Language2|\n",
      "+--------------+------------+----------+----------+-------------------+----------------------+----------+---------------+-----------------+----------------+---------------+------------------+--------------+--------------------+------------+----------------+----------------+------------+------------+--------------------+----------------+--------------------+--------------------+------------------+----------------------+-------------+---------+---------+---------+---------+\n",
      "|    1181876844|        3346|2018-07-01|     31156|               NULL|                  NULL|      NULL|              1|             NULL|            NULL|           NULL|              NULL|             3|                NULL|        NULL|00:00:15.0000000|13:53:23.0000000|  2018-07-28|        NULL| BLINDS TO GO/Blinds|13:53:08.0000000|                NULL|                   9|              NULL|                  NULL|         NULL|     NULL|     NULL|     NULL|     NULL|\n",
      "|    1181876845|        3346|2018-07-01|     31157|               NULL|                  NULL|      NULL|              1|             NULL|            NULL|           NULL|              NULL|             3|                NULL|        NULL|00:00:30.0000000|13:53:53.0000000|  2018-07-28|        NULL|NISSAN/RV_CAMPGRO...|13:53:23.0000000|                NULL|                   9|              NULL|                  NULL|         NULL|     NULL|     NULL|     NULL|     NULL|\n",
      "|    1181876846|        3346|2018-07-01|     31158|               NULL|                  NULL|      NULL|              1|             NULL|            NULL|           NULL|              NULL|             3|                NULL|        NULL|00:00:30.0000000|13:54:23.0000000|  2018-07-28|        NULL|CASH MONEY/ LendD...|13:53:53.0000000|                NULL|                   9|              NULL|                  NULL|         NULL|     NULL|     NULL|     NULL|     NULL|\n",
      "|    1181876847|        3346|2018-07-01|     31159|               NULL|                  NULL|      NULL|              1|             NULL|            NULL|           NULL|              NULL|             3|                NULL|        NULL|00:00:30.0000000|13:54:53.0000000|  2018-07-28|        NULL|WET N WILD/Theme ...|13:54:23.0000000|                NULL|                   9|              NULL|                  NULL|         NULL|     NULL|     NULL|     NULL|     NULL|\n",
      "|    1181876848|        3346|2018-07-01|     31160|               NULL|                  NULL|      NULL|              1|             NULL|            NULL|           NULL|              NULL|             3|                NULL|        NULL|00:00:30.0000000|13:55:23.0000000|  2018-07-28|        NULL|    HAKIM/SUMMER FUN|13:54:53.0000000|                NULL|                   9|              NULL|                  NULL|         NULL|     NULL|     NULL|     NULL|     NULL|\n",
      "|    1181876849|        3346|2018-07-01|     31161|               NULL|                  NULL|      NULL|              1|             NULL|            NULL|           NULL|              NULL|             3|                NULL|        NULL|00:00:30.0000000|13:55:53.0000000|  2018-07-28|        NULL|     BRICK/FURNITURE|13:55:23.0000000|                NULL|                   9|              NULL|                  NULL|         NULL|     NULL|     NULL|     NULL|     NULL|\n",
      "|    1181876850|        3346|2018-07-01|     31162|               NULL|                  NULL|      NULL|              1|             NULL|            NULL|           NULL|              NULL|             7|                NULL|        NULL|00:00:05.0000000|14:00:00.0000000|  2018-07-28|        NULL|CTY05ID CITY SPRI...|13:59:55.0000000|                NULL|                   9|              NULL|                  NULL|         NULL|     NULL|     NULL|     NULL|     NULL|\n",
      "|    1181876851|        3346|2018-07-01|     31163|                  4|                  NULL|        24|              1|                2|            NULL|           NULL|                12|            19|                NULL|        NULL|01:00:00.0000000|15:00:00.0000000|  2018-07-28|      A42024|            CityLine|14:00:00.0000000|1262 2018, June 2...|                   9|              NULL|                     1|            4|     NULL|     NULL|     NULL|     NULL|\n",
      "|    1181876852|        3346|2018-07-01|     31164|               NULL|                  NULL|      NULL|              1|             NULL|            NULL|           NULL|              NULL|             3|                NULL|        NULL|00:00:30.0000000|14:12:02.0000000|  2018-07-28|        NULL|NISSAN/RV_CAMPGRO...|14:11:32.0000000|                NULL|                   9|              NULL|                  NULL|         NULL|     NULL|     NULL|     NULL|     NULL|\n",
      "|    1181876853|        3346|2018-07-01|     31165|               NULL|                  NULL|      NULL|              1|             NULL|            NULL|           NULL|              NULL|             3|                NULL|        NULL|00:00:15.0000000|14:12:17.0000000|  2018-07-28|        NULL|  CHAPMANS ICE CREAM|14:12:02.0000000|                NULL|                   9|              NULL|                  NULL|         NULL|     NULL|     NULL|     NULL|     NULL|\n",
      "|    1181876854|        3346|2018-07-01|     31166|               NULL|                  NULL|      NULL|              1|             NULL|            NULL|           NULL|              NULL|             3|                NULL|        NULL|00:01:00.0000000|14:13:17.0000000|  2018-07-28|        NULL|GREEN SHIELD INSU...|14:12:17.0000000|                NULL|                   9|              NULL|                  NULL|         NULL|     NULL|     NULL|     NULL|     NULL|\n",
      "|    1181876855|        3346|2018-07-01|     31167|               NULL|                  NULL|      NULL|              1|             NULL|            NULL|           NULL|              NULL|             3|                NULL|        NULL|00:00:30.0000000|14:13:47.0000000|  2018-07-28|        NULL|OLG-INSTANTS/$20 ...|14:13:17.0000000|                NULL|                   9|              NULL|                  NULL|         NULL|     NULL|     NULL|     NULL|     NULL|\n",
      "|    1181876856|        3346|2018-07-01|     31168|               NULL|                  NULL|      NULL|              1|             NULL|            NULL|           NULL|              NULL|             3|                NULL|        NULL|00:00:15.0000000|14:14:02.0000000|  2018-07-28|        NULL|BAD BOY FURNITURE...|14:13:47.0000000|                NULL|                   9|              NULL|                  NULL|         NULL|     NULL|     NULL|     NULL|     NULL|\n",
      "|    1181876857|        3346|2018-07-01|     31169|               NULL|                  NULL|      NULL|              1|             NULL|            NULL|           NULL|              NULL|             3|                NULL|        NULL|00:00:30.0000000|14:14:32.0000000|  2018-07-28|        NULL|PIZZA PIZZA LTD/M...|14:14:02.0000000|                NULL|                   9|              NULL|                  NULL|         NULL|     NULL|     NULL|     NULL|     NULL|\n",
      "|    1181876858|        3346|2018-07-01|     31170|               NULL|                  NULL|      NULL|              1|             NULL|            NULL|           NULL|              NULL|            21|                NULL|        NULL|00:00:30.0000000|14:15:02.0000000|  2018-07-28|        NULL|CTY30EP BACHELORE...|14:14:32.0000000|                NULL|                   9|              NULL|                  NULL|         NULL|     NULL|     NULL|     NULL|     NULL|\n",
      "|    1181876859|        3346|2018-07-01|     31171|               NULL|                  NULL|      NULL|              1|             NULL|            NULL|           NULL|              NULL|             3|                NULL|        NULL|00:00:15.0000000|14:23:14.0000000|  2018-07-28|        NULL|LEONS FURNITURE L...|14:22:59.0000000|                NULL|                   9|              NULL|                  NULL|         NULL|     NULL|     NULL|     NULL|     NULL|\n",
      "|    1181876860|        3346|2018-07-01|     31172|               NULL|                  NULL|      NULL|              1|             NULL|            NULL|           NULL|              NULL|             3|                NULL|        NULL|00:00:30.0000000|14:23:44.0000000|  2018-07-28|        NULL|AURORA IMPORT & D...|14:23:14.0000000|                NULL|                   9|              NULL|                  NULL|         NULL|     NULL|     NULL|     NULL|     NULL|\n",
      "|    1181876861|        3346|2018-07-01|     31173|               NULL|                  NULL|      NULL|              1|             NULL|            NULL|           NULL|              NULL|             3|                NULL|        NULL|00:00:30.0000000|14:24:14.0000000|  2018-07-28|        NULL|DOWNSVIEW PARK ME...|14:23:44.0000000|                NULL|                   9|              NULL|                  NULL|         NULL|     NULL|     NULL|     NULL|     NULL|\n",
      "|    1181876862|        3346|2018-07-01|     31174|               NULL|                  NULL|      NULL|              1|             NULL|            NULL|           NULL|              NULL|             3|                NULL|        NULL|00:00:15.0000000|14:24:29.0000000|  2018-07-28|        NULL|    HAKIM/SUMMER FUN|14:24:14.0000000|                NULL|                   9|              NULL|                  NULL|         NULL|     NULL|     NULL|     NULL|     NULL|\n",
      "|    1181876863|        3346|2018-07-01|     31175|               NULL|                  NULL|      NULL|              1|             NULL|            NULL|           NULL|              NULL|             3|                NULL|        NULL|00:00:30.0000000|14:24:59.0000000|  2018-07-28|        NULL|THATCHER & ASS /L...|14:24:29.0000000|                NULL|                   9|              NULL|                  NULL|         NULL|     NULL|     NULL|     NULL|     NULL|\n",
      "+--------------+------------+----------+----------+-------------------+----------------------+----------+---------------+-----------------+----------------+---------------+------------------+--------------+--------------------+------------+----------------+----------------+------------+------------+--------------------+----------------+--------------------+--------------------+------------------+----------------------+-------------+---------+---------+---------+---------+\n",
      "only showing top 20 rows\n",
      "\n",
      "root\n",
      " |-- BroadcastLogID: integer (nullable = true)\n",
      " |-- LogServiceID: integer (nullable = true)\n",
      " |-- LogDate: date (nullable = true)\n",
      " |-- SequenceNO: integer (nullable = true)\n",
      " |-- AudienceTargetAgeID: integer (nullable = true)\n",
      " |-- AudienceTargetEthnicID: integer (nullable = true)\n",
      " |-- CategoryID: integer (nullable = true)\n",
      " |-- ClosedCaptionID: integer (nullable = true)\n",
      " |-- CountryOfOriginID: integer (nullable = true)\n",
      " |-- DubDramaCreditID: integer (nullable = true)\n",
      " |-- EthnicProgramID: integer (nullable = true)\n",
      " |-- ProductionSourceID: integer (nullable = true)\n",
      " |-- ProgramClassID: integer (nullable = true)\n",
      " |-- FilmClassificationID: integer (nullable = true)\n",
      " |-- ExhibitionID: integer (nullable = true)\n",
      " |-- Duration: string (nullable = true)\n",
      " |-- EndTime: string (nullable = true)\n",
      " |-- LogEntryDate: date (nullable = true)\n",
      " |-- ProductionNO: string (nullable = true)\n",
      " |-- ProgramTitle: string (nullable = true)\n",
      " |-- StartTime: string (nullable = true)\n",
      " |-- Subtitle: string (nullable = true)\n",
      " |-- NetworkAffiliationID: integer (nullable = true)\n",
      " |-- SpecialAttentionID: integer (nullable = true)\n",
      " |-- BroadcastOriginPointID: integer (nullable = true)\n",
      " |-- CompositionID: integer (nullable = true)\n",
      " |-- Producer1: string (nullable = true)\n",
      " |-- Producer2: string (nullable = true)\n",
      " |-- Language1: integer (nullable = true)\n",
      " |-- Language2: integer (nullable = true)\n",
      "\n"
     ]
    }
   ],
   "source": [
    "from pyspark.sql import SparkSession\n",
    "import os\n",
    "\n",
    "# Download from https://open.canada.ca/data/en/dataset/800106c1-0b08-401e-8be2-ac45d62e662e\n",
    "# BroadcastLogs_2018_Q3_M8.CSV\n",
    "# https://open.canada.ca/data/en/dataset/800106c1-0b08-401e-8be2-ac45d62e662e/resource/23b213b3-a4a4-4813-95f9-3916af57568c\n",
    "# Data Dictionaly\n",
    "# https://open.canada.ca/data/en/dataset/800106c1-0b08-401e-8be2-ac45d62e662e/resource/12efecb4-1eb5-4b92-808e-3dbaaee2ec9d\n",
    "# Reference Tables\n",
    "# https://open.canada.ca/data/en/dataset/800106c1-0b08-401e-8be2-ac45d62e662e/resource/8fdbf80d-2161-48a5-8a32-fc90e738a7a3\n",
    "\n",
    "spark = SparkSession.builder.getOrCreate()\n",
    "\n",
    "DIRECTORY = \"../data/\"\n",
    "logs = spark.read.csv(\n",
    "        path=os.path.join(DIRECTORY, \"BroadcastLogs_2018_Q3_M.CSV\"),\n",
    "        sep=\"|\",\n",
    "        header=True,\n",
    "        inferSchema=True,\n",
    "        timestampFormat=\"yyyy-MM-dd\",\n",
    "        )\n",
    "logs.select(\"BroadcastLogID\", \"LogServiceID\", \"LogDate\").show(5, False)\n",
    "\n",
    "#logs.writeTo(\"Canada.Broadcast.Logs.2018_Q3.M8\").create()\n",
    "logs.writeTo(\"Canada.Broadcast.Logs.2018_Q3.M\").create()\n",
    "\n",
    "df = spark.table(\"Canada.Broadcast.Logs.2018_Q3.M\")\n",
    "df.show()\n",
    "df.printSchema()\n"
   ]
  },
  {
   "cell_type": "code",
   "execution_count": 4,
   "id": "f992ca45-ee0c-4b72-89d2-d18193fb4df3",
   "metadata": {},
   "outputs": [
    {
     "name": "stderr",
     "output_type": "stream",
     "text": [
      "                                                                                "
     ]
    }
   ],
   "source": [
    "df.write.csv(path=\"../data/write.csv\")"
   ]
  },
  {
   "cell_type": "code",
   "execution_count": null,
   "id": "1a8086fa-d97c-4de4-b4d0-f6fb8476038b",
   "metadata": {},
   "outputs": [],
   "source": []
  }
 ],
 "metadata": {
  "kernelspec": {
   "display_name": "Python 3 (ipykernel)",
   "language": "python",
   "name": "python3"
  },
  "language_info": {
   "codemirror_mode": {
    "name": "ipython",
    "version": 3
   },
   "file_extension": ".py",
   "mimetype": "text/x-python",
   "name": "python",
   "nbconvert_exporter": "python",
   "pygments_lexer": "ipython3",
   "version": "3.9.2"
  }
 },
 "nbformat": 4,
 "nbformat_minor": 5
}
